{
  "nbformat": 4,
  "nbformat_minor": 0,
  "metadata": {
    "colab": {
      "name": "TV_Sales_RegModel.ipynb",
      "provenance": [],
      "collapsed_sections": []
    },
    "kernelspec": {
      "name": "python3",
      "display_name": "Python 3"
    }
  },
  "cells": [
    {
      "cell_type": "markdown",
      "metadata": {
        "id": "sS-GHwVUr7QK"
      },
      "source": [
        "### **Data Preprocessing**"
      ]
    },
    {
      "cell_type": "code",
      "metadata": {
        "id": "nogTJsuzWfVA"
      },
      "source": [
        "import numpy as np\n",
        "import pandas as pd\n",
        "import matplotlib.pyplot as plt\n",
        "import sklearn\n",
        "%matplotlib inline"
      ],
      "execution_count": 34,
      "outputs": []
    },
    {
      "cell_type": "code",
      "metadata": {
        "id": "672lfHInXH4z"
      },
      "source": [
        "main_df=pd.read_csv('advertising.csv')"
      ],
      "execution_count": 35,
      "outputs": []
    },
    {
      "cell_type": "code",
      "metadata": {
        "id": "YGCVqBxLXTOd",
        "outputId": "0264aaf5-f74e-48bf-c75a-259f57fa4e0e",
        "colab": {
          "base_uri": "https://localhost:8080/",
          "height": 204
        }
      },
      "source": [
        "main_df.head()"
      ],
      "execution_count": 36,
      "outputs": [
        {
          "output_type": "execute_result",
          "data": {
            "text/html": [
              "<div>\n",
              "<style scoped>\n",
              "    .dataframe tbody tr th:only-of-type {\n",
              "        vertical-align: middle;\n",
              "    }\n",
              "\n",
              "    .dataframe tbody tr th {\n",
              "        vertical-align: top;\n",
              "    }\n",
              "\n",
              "    .dataframe thead th {\n",
              "        text-align: right;\n",
              "    }\n",
              "</style>\n",
              "<table border=\"1\" class=\"dataframe\">\n",
              "  <thead>\n",
              "    <tr style=\"text-align: right;\">\n",
              "      <th></th>\n",
              "      <th>TV</th>\n",
              "      <th>Radio</th>\n",
              "      <th>Newspaper</th>\n",
              "      <th>Sales</th>\n",
              "    </tr>\n",
              "  </thead>\n",
              "  <tbody>\n",
              "    <tr>\n",
              "      <th>0</th>\n",
              "      <td>230.1</td>\n",
              "      <td>37.8</td>\n",
              "      <td>69.2</td>\n",
              "      <td>22.1</td>\n",
              "    </tr>\n",
              "    <tr>\n",
              "      <th>1</th>\n",
              "      <td>44.5</td>\n",
              "      <td>39.3</td>\n",
              "      <td>45.1</td>\n",
              "      <td>10.4</td>\n",
              "    </tr>\n",
              "    <tr>\n",
              "      <th>2</th>\n",
              "      <td>17.2</td>\n",
              "      <td>45.9</td>\n",
              "      <td>69.3</td>\n",
              "      <td>12.0</td>\n",
              "    </tr>\n",
              "    <tr>\n",
              "      <th>3</th>\n",
              "      <td>151.5</td>\n",
              "      <td>41.3</td>\n",
              "      <td>58.5</td>\n",
              "      <td>16.5</td>\n",
              "    </tr>\n",
              "    <tr>\n",
              "      <th>4</th>\n",
              "      <td>180.8</td>\n",
              "      <td>10.8</td>\n",
              "      <td>58.4</td>\n",
              "      <td>17.9</td>\n",
              "    </tr>\n",
              "  </tbody>\n",
              "</table>\n",
              "</div>"
            ],
            "text/plain": [
              "      TV  Radio  Newspaper  Sales\n",
              "0  230.1   37.8       69.2   22.1\n",
              "1   44.5   39.3       45.1   10.4\n",
              "2   17.2   45.9       69.3   12.0\n",
              "3  151.5   41.3       58.5   16.5\n",
              "4  180.8   10.8       58.4   17.9"
            ]
          },
          "metadata": {
            "tags": []
          },
          "execution_count": 36
        }
      ]
    },
    {
      "cell_type": "code",
      "metadata": {
        "id": "lcQf4PWdXc03",
        "outputId": "553f6b41-db61-4f96-9a9c-2672b5427edc",
        "colab": {
          "base_uri": "https://localhost:8080/",
          "height": 102
        }
      },
      "source": [
        "main_df.isnull().sum()"
      ],
      "execution_count": 37,
      "outputs": [
        {
          "output_type": "execute_result",
          "data": {
            "text/plain": [
              "TV           0\n",
              "Radio        0\n",
              "Newspaper    0\n",
              "Sales        0\n",
              "dtype: int64"
            ]
          },
          "metadata": {
            "tags": []
          },
          "execution_count": 37
        }
      ]
    },
    {
      "cell_type": "code",
      "metadata": {
        "id": "gGqsGoRlXfp4",
        "outputId": "dbd4a98f-f8f8-43ae-e430-99a785d4654c",
        "colab": {
          "base_uri": "https://localhost:8080/",
          "height": 204
        }
      },
      "source": [
        "main_df.info()"
      ],
      "execution_count": 38,
      "outputs": [
        {
          "output_type": "stream",
          "text": [
            "<class 'pandas.core.frame.DataFrame'>\n",
            "RangeIndex: 200 entries, 0 to 199\n",
            "Data columns (total 4 columns):\n",
            " #   Column     Non-Null Count  Dtype  \n",
            "---  ------     --------------  -----  \n",
            " 0   TV         200 non-null    float64\n",
            " 1   Radio      200 non-null    float64\n",
            " 2   Newspaper  200 non-null    float64\n",
            " 3   Sales      200 non-null    float64\n",
            "dtypes: float64(4)\n",
            "memory usage: 6.4 KB\n"
          ],
          "name": "stdout"
        }
      ]
    },
    {
      "cell_type": "code",
      "metadata": {
        "id": "yVSUdWviXk1b",
        "outputId": "5499bc38-8b85-42b6-cdf6-a8ec0c830aee",
        "colab": {
          "base_uri": "https://localhost:8080/",
          "height": 513
        }
      },
      "source": [
        "#fig, axs = plt.subplots(1, , sharey=True)\n",
        "main_df.plot(kind='scatter', x='TV', y='Sales', figsize=(10, 8))\n",
        "plt.title(\"Understanding the relationship between TV and Sales\")\n",
        "plt.show()"
      ],
      "execution_count": 39,
      "outputs": [
        {
          "output_type": "display_data",
          "data": {
            "image/png": "[encoded data removed]",
            "text/plain": [
              "<Figure size 720x576 with 1 Axes>"
            ]
          },
          "metadata": {
            "tags": [],
            "needs_background": "light"
          }
        }
      ]
    },
    {
      "cell_type": "markdown",
      "metadata": {
        "id": "JH8qNLQ8nyrV"
      },
      "source": [
        "#### **ASSUMPTIONS MADE AFTER OBSERVING THIS SCATTER PLOT OF THE RELATIONSHIP B/W TV AND SALES**\n",
        "1. FORM OF RELATIONSHIP: LINEAR\n",
        "2. DIRECTION : POSITIVE\n",
        "3. STRENGTH : STRONG\n",
        "4. OUTLIERS : FEW/NONE"
      ]
    },
    {
      "cell_type": "markdown",
      "metadata": {
        "id": "Fnz4oouV2wfO"
      },
      "source": [
        "### **Linear Regression**\n",
        "Simple Linear regression is a method for predicting a quantitative response using a single feature. The mathematical equation is:\n",
        "\n",
        "y=β0+β1x \n",
        "\n",
        "\n",
        "y  is the response or the target variable\n",
        "x  is the feature\n",
        "β1  is the coefficient of x\n",
        "β0  is the intercept\n",
        "β0  and  β1  are the model coefficients. To create a model, we must \"learn\" the values of these coefficients. These values will help us predict Sales.\n",
        "\n",
        "### **Estimating (\"Learning\") Model Coefficients**\n",
        "\n",
        "The general equation of a straight line is:\n",
        "\n",
        " y=mx+b \n",
        "\n",
        "While we are predicting values of y ffor each x, the calculations finally obtain a single straight line."
      ]
    },
    {
      "cell_type": "markdown",
      "metadata": {
        "id": "U4zom9f3eaaS"
      },
      "source": [
        "##### **From the observed relationship in the scatter plot, now we propose a Linear Regression model b/w the TV and Sales**"
      ]
    },
    {
      "cell_type": "code",
      "metadata": {
        "id": "1OBIDwBckd3d"
      },
      "source": [
        "X=main_df[['TV']]\n",
        "Y=main_df[['Sales']]"
      ],
      "execution_count": 40,
      "outputs": []
    },
    {
      "cell_type": "code",
      "metadata": {
        "id": "j5TKjcEDfWD7"
      },
      "source": [
        "from sklearn.model_selection import train_test_split\n",
        "x_train,x_test,y_train,y_test=train_test_split(X,Y,test_size=0.20)"
      ],
      "execution_count": 41,
      "outputs": []
    },
    {
      "cell_type": "code",
      "metadata": {
        "id": "7WhJwwEKi3vo",
        "outputId": "eb2e392e-d198-456e-8908-31fefad88f91",
        "colab": {
          "base_uri": "https://localhost:8080/",
          "height": 297
        }
      },
      "source": [
        "x_test.describe()"
      ],
      "execution_count": 42,
      "outputs": [
        {
          "output_type": "execute_result",
          "data": {
            "text/html": [
              "<div>\n",
              "<style scoped>\n",
              "    .dataframe tbody tr th:only-of-type {\n",
              "        vertical-align: middle;\n",
              "    }\n",
              "\n",
              "    .dataframe tbody tr th {\n",
              "        vertical-align: top;\n",
              "    }\n",
              "\n",
              "    .dataframe thead th {\n",
              "        text-align: right;\n",
              "    }\n",
              "</style>\n",
              "<table border=\"1\" class=\"dataframe\">\n",
              "  <thead>\n",
              "    <tr style=\"text-align: right;\">\n",
              "      <th></th>\n",
              "      <th>TV</th>\n",
              "    </tr>\n",
              "  </thead>\n",
              "  <tbody>\n",
              "    <tr>\n",
              "      <th>count</th>\n",
              "      <td>40.00000</td>\n",
              "    </tr>\n",
              "    <tr>\n",
              "      <th>mean</th>\n",
              "      <td>145.67500</td>\n",
              "    </tr>\n",
              "    <tr>\n",
              "      <th>std</th>\n",
              "      <td>88.23332</td>\n",
              "    </tr>\n",
              "    <tr>\n",
              "      <th>min</th>\n",
              "      <td>4.10000</td>\n",
              "    </tr>\n",
              "    <tr>\n",
              "      <th>25%</th>\n",
              "      <td>73.62500</td>\n",
              "    </tr>\n",
              "    <tr>\n",
              "      <th>50%</th>\n",
              "      <td>137.85000</td>\n",
              "    </tr>\n",
              "    <tr>\n",
              "      <th>75%</th>\n",
              "      <td>217.67500</td>\n",
              "    </tr>\n",
              "    <tr>\n",
              "      <th>max</th>\n",
              "      <td>296.40000</td>\n",
              "    </tr>\n",
              "  </tbody>\n",
              "</table>\n",
              "</div>"
            ],
            "text/plain": [
              "              TV\n",
              "count   40.00000\n",
              "mean   145.67500\n",
              "std     88.23332\n",
              "min      4.10000\n",
              "25%     73.62500\n",
              "50%    137.85000\n",
              "75%    217.67500\n",
              "max    296.40000"
            ]
          },
          "metadata": {
            "tags": []
          },
          "execution_count": 42
        }
      ]
    },
    {
      "cell_type": "code",
      "metadata": {
        "id": "NfwhL6MjZD_B",
        "outputId": "df082387-c41b-41fd-b6da-b174177d0f4f",
        "colab": {
          "base_uri": "https://localhost:8080/",
          "height": 34
        }
      },
      "source": [
        "from sklearn.linear_model import LinearRegression\n",
        "lm = LinearRegression()\n",
        "lm.fit(x_train, y_train)"
      ],
      "execution_count": 43,
      "outputs": [
        {
          "output_type": "execute_result",
          "data": {
            "text/plain": [
              "LinearRegression(copy_X=True, fit_intercept=True, n_jobs=None, normalize=False)"
            ]
          },
          "metadata": {
            "tags": []
          },
          "execution_count": 43
        }
      ]
    },
    {
      "cell_type": "code",
      "metadata": {
        "id": "V4p90MlFiKc8",
        "outputId": "95cf7eb5-e254-4d2e-d84c-9c6c488793bf",
        "colab": {
          "base_uri": "https://localhost:8080/",
          "height": 697
        }
      },
      "source": [
        "y_pred=lm.predict(x_test)\n",
        "y_pred"
      ],
      "execution_count": 44,
      "outputs": [
        {
          "output_type": "execute_result",
          "data": {
            "text/plain": [
              "array([[22.48000777],\n",
              "       [14.50089297],\n",
              "       [ 7.90704116],\n",
              "       [ 7.43605175],\n",
              "       [17.90309886],\n",
              "       [13.08792473],\n",
              "       [20.25804594],\n",
              "       [21.64884998],\n",
              "       [19.67069443],\n",
              "       [16.4458022 ],\n",
              "       [17.78119572],\n",
              "       [14.68374769],\n",
              "       [13.63094782],\n",
              "       [12.35650587],\n",
              "       [12.90507001],\n",
              "       [19.81476178],\n",
              "       [13.61432466],\n",
              "       [21.10582689],\n",
              "       [18.31313671],\n",
              "       [19.16091766],\n",
              "       [ 7.6022833 ],\n",
              "       [17.68699784],\n",
              "       [18.26326724],\n",
              "       [18.94481663],\n",
              "       [14.25154563],\n",
              "       [13.91908252],\n",
              "       [22.7071909 ],\n",
              "       [ 8.37248952],\n",
              "       [ 7.18116336],\n",
              "       [10.78838817],\n",
              "       [15.63126757],\n",
              "       [23.37765818],\n",
              "       [12.25676694],\n",
              "       [19.17199976],\n",
              "       [ 8.04002641],\n",
              "       [18.96698084],\n",
              "       [11.11531023],\n",
              "       [ 9.91844302],\n",
              "       [10.77730607],\n",
              "       [ 7.35847702]])"
            ]
          },
          "metadata": {
            "tags": []
          },
          "execution_count": 44
        }
      ]
    },
    {
      "cell_type": "markdown",
      "metadata": {
        "id": "4ZQY-nizpMUx"
      },
      "source": [
        "#### **Calculation of Metrics**"
      ]
    },
    {
      "cell_type": "code",
      "metadata": {
        "id": "IG-Bbw_PoETG",
        "outputId": "760ced58-3078-466f-950b-d9cb22448e6a",
        "colab": {
          "base_uri": "https://localhost:8080/",
          "height": 68
        }
      },
      "source": [
        "from sklearn import metrics\n",
        "print(\"MSE\",metrics.mean_squared_error(y_test,y_pred))\n",
        "print(\"MAE\",metrics.mean_absolute_error(y_test,y_pred))\n",
        "print(\"RMSE\",np.sqrt(metrics.mean_squared_error(y_test,y_pred)))\n"
      ],
      "execution_count": 45,
      "outputs": [
        {
          "output_type": "stream",
          "text": [
            "MSE 5.548778140648599\n",
            "MAE 1.8362745885689997\n",
            "RMSE 2.3555844583985093\n"
          ],
          "name": "stdout"
        }
      ]
    },
    {
      "cell_type": "code",
      "metadata": {
        "id": "LVQD-QdyoK3j",
        "outputId": "cb8f612d-7fca-4d64-c8cd-b3c67a7a0369",
        "colab": {
          "base_uri": "https://localhost:8080/",
          "height": 51
        }
      },
      "source": [
        "print(lm.intercept_)\n",
        "print(lm.coef_)"
      ],
      "execution_count": 46,
      "outputs": [
        {
          "output_type": "stream",
          "text": [
            "[6.95398023]\n",
            "[[0.05541052]]\n"
          ],
          "name": "stdout"
        }
      ]
    },
    {
      "cell_type": "markdown",
      "metadata": {
        "id": "70Ab6ryv3_Y5"
      },
      "source": [
        "#### **Testing for new values**"
      ]
    },
    {
      "cell_type": "code",
      "metadata": {
        "id": "S0F79q1OUjT7",
        "outputId": "d6668375-0994-4a2f-e7de-64ac2061c797",
        "colab": {
          "base_uri": "https://localhost:8080/",
          "height": 80
        }
      },
      "source": [
        "X_new = pd.DataFrame({'TV': [50]})\n",
        "X_new.head()"
      ],
      "execution_count": 47,
      "outputs": [
        {
          "output_type": "execute_result",
          "data": {
            "text/html": [
              "<div>\n",
              "<style scoped>\n",
              "    .dataframe tbody tr th:only-of-type {\n",
              "        vertical-align: middle;\n",
              "    }\n",
              "\n",
              "    .dataframe tbody tr th {\n",
              "        vertical-align: top;\n",
              "    }\n",
              "\n",
              "    .dataframe thead th {\n",
              "        text-align: right;\n",
              "    }\n",
              "</style>\n",
              "<table border=\"1\" class=\"dataframe\">\n",
              "  <thead>\n",
              "    <tr style=\"text-align: right;\">\n",
              "      <th></th>\n",
              "      <th>TV</th>\n",
              "    </tr>\n",
              "  </thead>\n",
              "  <tbody>\n",
              "    <tr>\n",
              "      <th>0</th>\n",
              "      <td>50</td>\n",
              "    </tr>\n",
              "  </tbody>\n",
              "</table>\n",
              "</div>"
            ],
            "text/plain": [
              "   TV\n",
              "0  50"
            ]
          },
          "metadata": {
            "tags": []
          },
          "execution_count": 47
        }
      ]
    },
    {
      "cell_type": "code",
      "metadata": {
        "id": "dNKOa0o7QACj"
      },
      "source": [
        "new_x=50\n",
        "new_x=np.array(new_x)"
      ],
      "execution_count": 48,
      "outputs": []
    },
    {
      "cell_type": "code",
      "metadata": {
        "id": "NmfvlJtWUp1X",
        "outputId": "63c31325-13ae-4ff6-a7a1-d404385799a4",
        "colab": {
          "base_uri": "https://localhost:8080/",
          "height": 34
        }
      },
      "source": [
        "preds = lm.predict(X_new)\n",
        "preds"
      ],
      "execution_count": 49,
      "outputs": [
        {
          "output_type": "execute_result",
          "data": {
            "text/plain": [
              "array([[9.7245062]])"
            ]
          },
          "metadata": {
            "tags": []
          },
          "execution_count": 49
        }
      ]
    },
    {
      "cell_type": "markdown",
      "metadata": {
        "id": "UnNU4ZSW4JQt"
      },
      "source": [
        "#### **Scatter plot for new data**"
      ]
    },
    {
      "cell_type": "code",
      "metadata": {
        "id": "kSAkCUFtUxd2",
        "outputId": "86332408-96f6-408f-98fe-be1f8b8d714c",
        "colab": {
          "base_uri": "https://localhost:8080/",
          "height": 296
        }
      },
      "source": [
        "main_df.plot(kind='scatter', x='TV', y='Sales')\n",
        "\n",
        "# then, plot the least squares line\n",
        "plt.plot(X_new, preds, c='red', linewidth=2)"
      ],
      "execution_count": 50,
      "outputs": [
        {
          "output_type": "execute_result",
          "data": {
            "text/plain": [
              "[<matplotlib.lines.Line2D at 0x7f31518a4198>]"
            ]
          },
          "metadata": {
            "tags": []
          },
          "execution_count": 50
        },
        {
          "output_type": "display_data",
          "data": {
            "image/png": "[encoded data removed]",
            "text/plain": [
              "<Figure size 432x288 with 1 Axes>"
            ]
          },
          "metadata": {
            "tags": [],
            "needs_background": "light"
          }
        }
      ]
    },
    {
      "cell_type": "markdown",
      "metadata": {
        "id": "HOswNbaI3nGL"
      },
      "source": [
        "### **Interpreting the model**\n",
        "\n",
        "---\n",
        "\n",
        "\n",
        "\n",
        "An **increase** in a unit of TV ad expenditure is associated with **increase** in Sales.\n",
        "The coefficient **β1=0.05565007** denotes that for an increased expense on a TV ad of $1000 the Sales would go up by 55.65007\n",
        "\n",
        "\n",
        "β1 is negative as it has an inverse relationship with increase in TV ads(coeff), ie.: an increase in TV ads would decrease β1 making it thus **negative**.\n",
        "\n",
        "\n"
      ]
    },
    {
      "cell_type": "markdown",
      "metadata": {
        "id": "UIEJ8tjC4n8i"
      },
      "source": [
        "### **Model Confidence**\n",
        "\n",
        "---\n",
        "\n",
        "\n",
        "\n",
        "Linear Regression is a **high bias** and **low variance** model because the best fit line remains in the same position, roughly after repeated sampling also, thus **low variance**. But due to **high bias**, repeated samples will **not** give a perfect relationship. Low variance thus helps us only when the training data set is large.\n",
        "\n",
        "95% confidence of model means: If the population from which this sample is drawn and is sampled 100 times, then approximately 95 (out of 100) of those confidence intervals shall contain the \"true\" coefficients."
      ]
    },
    {
      "cell_type": "markdown",
      "metadata": {
        "id": "-QwE9-448nT0"
      },
      "source": [
        "#### **Constructing Confidence Intervals for fitted parameters**\n",
        "The confidence interval is based on the standard normal distribution."
      ]
    },
    {
      "cell_type": "code",
      "metadata": {
        "id": "Cu-UK20mJzCb"
      },
      "source": [
        "import numpy as np\n",
        "import scipy.stats"
      ],
      "execution_count": 51,
      "outputs": []
    },
    {
      "cell_type": "code",
      "metadata": {
        "id": "6CE7S9jhJpRV"
      },
      "source": [
        "\n",
        "def mean_confidence_interval(data, confidence=0.95):\n",
        "    a = 1.0 * np.array(data)\n",
        "    n = len(a)\n",
        "    m, se = np.mean(a), scipy.stats.sem(a)\n",
        "    h = se * scipy.stats.t.ppf((1 + confidence) / 2., n-1)\n",
        "    return m, m-h, m+h"
      ],
      "execution_count": 52,
      "outputs": []
    },
    {
      "cell_type": "code",
      "metadata": {
        "id": "Y9AdsoUtKElh"
      },
      "source": [
        "mean,lower,upper = mean_confidence_interval(X,0.95)"
      ],
      "execution_count": 53,
      "outputs": []
    },
    {
      "cell_type": "code",
      "metadata": {
        "id": "n1OcHTCOKvPx",
        "outputId": "df43e47d-867c-45f8-b295-3536fc43ad63",
        "colab": {
          "base_uri": "https://localhost:8080/",
          "height": 34
        }
      },
      "source": [
        "mean,lower,upper"
      ],
      "execution_count": 54,
      "outputs": [
        {
          "output_type": "execute_result",
          "data": {
            "text/plain": [
              "(147.0425, array([135.07112399]), array([159.01387601]))"
            ]
          },
          "metadata": {
            "tags": []
          },
          "execution_count": 54
        }
      ]
    },
    {
      "cell_type": "markdown",
      "metadata": {
        "id": "On1POyeopz22"
      },
      "source": [
        "#### **Calculation of Prediction Interval**"
      ]
    },
    {
      "cell_type": "code",
      "metadata": {
        "id": "MybK1EQVOpjS"
      },
      "source": [
        "from numpy import power\n",
        "from numpy import sqrt\n",
        "from numpy import mean\n",
        "from numpy import std\n",
        "from numpy import sum as arraysum\n",
        "from scipy.stats import linregress\n",
        "from matplotlib import pyplot"
      ],
      "execution_count": 55,
      "outputs": []
    },
    {
      "cell_type": "code",
      "metadata": {
        "id": "dLs6Y721ZPnZ"
      },
      "source": [
        "df_x=main_df['TV']\n",
        "df_y=main_df['Sales']"
      ],
      "execution_count": 56,
      "outputs": []
    },
    {
      "cell_type": "code",
      "metadata": {
        "id": "zSVL0Yb8ZcAW"
      },
      "source": [
        "b1, b0, r_value, p_value, std_err = linregress(df_x, df_y)\n",
        "# make predictions"
      ],
      "execution_count": 57,
      "outputs": []
    },
    {
      "cell_type": "code",
      "metadata": {
        "id": "60AiK32lZknJ"
      },
      "source": [
        "yhat = b0 + b1 * df_x"
      ],
      "execution_count": 58,
      "outputs": []
    },
    {
      "cell_type": "code",
      "metadata": {
        "id": "HEdDxwW-Zt3S",
        "outputId": "00595e8e-fd02-4a6e-9052-5ded8054c02e",
        "colab": {
          "base_uri": "https://localhost:8080/",
          "height": 265
        }
      },
      "source": [
        "plt.scatter(df_x, df_y)\n",
        "plt.plot(df_x, yhat, color='r')\n",
        "plt.show()"
      ],
      "execution_count": 59,
      "outputs": [
        {
          "output_type": "display_data",
          "data": {
            "image/png": "[encoded data removed]",
            "text/plain": [
              "<Figure size 432x288 with 1 Axes>"
            ]
          },
          "metadata": {
            "tags": [],
            "needs_background": "light"
          }
        }
      ]
    },
    {
      "cell_type": "code",
      "metadata": {
        "id": "kUo-xREnc6Ej"
      },
      "source": [
        "x_in = np.mean(df_x)\n",
        "y_out = np.mean(df_y)\n",
        "yhat_out = np.mean(yhat)"
      ],
      "execution_count": 60,
      "outputs": []
    },
    {
      "cell_type": "code",
      "metadata": {
        "id": "8dvUc-LmOWXn"
      },
      "source": [
        "sum_errs = arraysum((df_y - yhat)**2)\n",
        "stdev = sqrt(1/(len(df_y)-2) * sum_errs)\n",
        "# calculate prediction interval\n",
        "interval = 1.96 * stdev"
      ],
      "execution_count": 61,
      "outputs": []
    },
    {
      "cell_type": "code",
      "metadata": {
        "id": "tIVPPOhodXyi",
        "outputId": "29dc099b-167b-4889-a7c9-22c4b47f1123",
        "colab": {
          "base_uri": "https://localhost:8080/",
          "height": 265
        }
      },
      "source": [
        "plt.scatter(df_x,df_y)\n",
        "plt.plot(df_x, yhat, color='red')\n",
        "plt.errorbar(x_in, yhat_out, yerr=interval, color='black', fmt='o')\n",
        "plt.show()"
      ],
      "execution_count": 62,
      "outputs": [
        {
          "output_type": "display_data",
          "data": {
            "image/png": "[encoded data removed]",
            "text/plain": [
              "<Figure size 432x288 with 1 Axes>"
            ]
          },
          "metadata": {
            "tags": [],
            "needs_background": "light"
          }
        }
      ]
    },
    {
      "cell_type": "code",
      "metadata": {
        "id": "vwbNtiXceQzU",
        "outputId": "0df4d7bc-8e63-4e09-b8ef-1af701c38d51",
        "colab": {
          "base_uri": "https://localhost:8080/",
          "height": 68
        }
      },
      "source": [
        "lower,upper = yhat_out-interval,yhat_out+interval\n",
        "print('Prediction Interval : %3f'% interval)\n",
        "print('95%% likelihood that the true value is between %.3f and %.3f' % (lower, upper))\n",
        "print('True value: %.3f' % y_out)"
      ],
      "execution_count": 63,
      "outputs": [
        {
          "output_type": "stream",
          "text": [
            "Prediction Interval : 4.499662\n",
            "95% likelihood that the true value is between 10.631 and 19.630\n",
            "True value: 15.131\n"
          ],
          "name": "stdout"
        }
      ]
    },
    {
      "cell_type": "markdown",
      "metadata": {
        "id": "5OqxiIGeqEYj"
      },
      "source": [
        "#### **The black dot on the best-fit line shows the true value among the predicted values. The black bar passing through the black dot represents the Prediction Interval of the model**"
      ]
    },
    {
      "cell_type": "code",
      "metadata": {
        "id": "sotPO48N-MFv"
      },
      "source": [
        "import seaborn as sns"
      ],
      "execution_count": 64,
      "outputs": []
    },
    {
      "cell_type": "markdown",
      "metadata": {
        "id": "xOZ74mwx5GCH"
      },
      "source": [
        "**Uncertainty about the estimate by giving a range within which \"true\" coefficients exist.**\n",
        "\n",
        "95% confidence intervals is default. We can create 90% confidence intervals (which will be more narrow), 99% confidence intervals (which will be wider)."
      ]
    },
    {
      "cell_type": "markdown",
      "metadata": {
        "id": "-3aSfI7I4IBl"
      },
      "source": [
        "### **Hypothesis Testing and p-values**\n",
        "\n",
        "---\n",
        "\n",
        "\n",
        "Hypothesis testing is related to confidence intervals. We start with a null hypothesis and an alternate hypothesis. Then, we check whether the data **rejects** the **null hypothesis** or **fails** to reject it ( not necessarily meaning to \"**accept**\" the null hypothesis).\n",
        "\n",
        "**Null hypothesis**: No relationship exists between TV advertisements and Sales (and hence  β1  equals zero).\n",
        "\n",
        "**Alternative hypothesis**: There exists a relationship between TV advertisements and Sales (and hence,  β1  is not equal to zero)."
      ]
    },
    {
      "cell_type": "markdown",
      "metadata": {
        "id": "Q36_ijmCTbb8"
      },
      "source": [
        "#### The coefficients are estimated using the least-squares criterion, which will happen when, the best fit line will calculate the sum of squared errors and minimize it."
      ]
    },
    {
      "cell_type": "code",
      "metadata": {
        "id": "uJqFmoE7U9UA",
        "outputId": "cf9199b7-1438-4957-8679-ee290aae1ba4",
        "colab": {
          "base_uri": "https://localhost:8080/",
          "height": 71
        }
      },
      "source": [
        "import statsmodels.api as sm"
      ],
      "execution_count": 66,
      "outputs": [
        {
          "output_type": "stream",
          "text": [
            "/usr/local/lib/python3.6/dist-packages/statsmodels/tools/_testing.py:19: FutureWarning: pandas.util.testing is deprecated. Use the functions in the public API at pandas.testing instead.\n",
            "  import pandas.util.testing as tm\n"
          ],
          "name": "stderr"
        }
      ]
    },
    {
      "cell_type": "code",
      "metadata": {
        "id": "ivQcZRfoTDN_",
        "outputId": "afafb222-75fa-4932-d676-ecd3d6d6bae3",
        "colab": {
          "base_uri": "https://localhost:8080/",
          "height": 102
        }
      },
      "source": [
        "model0 = sm.OLS(df_y,df_x)\n",
        "results=model0.fit()\n",
        "print(\"Parameters:\",results.params)\n",
        "print(\"R2 : \" ,results.rsquared)\n",
        "print(\"P-value : \", results.pvalues)"
      ],
      "execution_count": 67,
      "outputs": [
        {
          "output_type": "stream",
          "text": [
            "Parameters: TV    0.090884\n",
            "dtype: float64\n",
            "R2 :  0.9316754914300287\n",
            "P-value :  TV    6.420084e-118\n",
            "dtype: float64\n"
          ],
          "name": "stdout"
        }
      ]
    },
    {
      "cell_type": "markdown",
      "metadata": {
        "id": "ZEQAeE0WVRmx"
      },
      "source": [
        "#### **Since there exists a small p-value this signifies that a relationship between TV and Sales exists. Smaller the p-value, the stronger the evidence that we must reject the null hypothesis.**"
      ]
    },
    {
      "cell_type": "markdown",
      "metadata": {
        "id": "TVAGx4FwGXyq"
      },
      "source": [
        "### **R-squared**\n",
        "\n",
        "---\n",
        "\n",
        "\n",
        "One of the most generic way to evaluate the fit of a linear model is by computing the R-squared value. R-squared explains theproportion of variance, i.e., the proportion of variance in the observed data which the model explains, or the reduction in error over the null model. (A null model only predicts the mean of all the observed responses, and thus it only has an intercept and no slope.)\n",
        "\n"
      ]
    },
    {
      "cell_type": "code",
      "metadata": {
        "id": "xuiEL0RsGbPE"
      },
      "source": [
        "from sklearn.metrics import r2_score"
      ],
      "execution_count": null,
      "outputs": []
    },
    {
      "cell_type": "code",
      "metadata": {
        "id": "OyXGeuwRfO_T"
      },
      "source": [
        "r2_score(df_y, yhat)"
      ],
      "execution_count": null,
      "outputs": []
    },
    {
      "cell_type": "markdown",
      "metadata": {
        "id": "MkzzSMN0jCue"
      },
      "source": [
        "The value of R-squared lies between 0 and 1. A value closer to 1 is better as it means that more variance is explained by the model."
      ]
    },
    {
      "cell_type": "markdown",
      "metadata": {
        "id": "lbTtcdMLlB95"
      },
      "source": [
        "### **Analysis Of Variance (Anova) Testing**\n",
        "\n",
        "---\n",
        "\n",
        "\n",
        "##### **NULL hypothesis** : There is no difference in the means of different groups\n",
        "##### **Alternate hypothesis** : Mean of the different groups of the data has a high variance and are not all equal"
      ]
    },
    {
      "cell_type": "code",
      "metadata": {
        "id": "AbV74qxPlPqI"
      },
      "source": [
        "import scipy.stats as stats"
      ],
      "execution_count": null,
      "outputs": []
    },
    {
      "cell_type": "code",
      "metadata": {
        "id": "DwmusnOridab"
      },
      "source": [
        "# stats f_oneway functions takes the groups as input and returns F and P-value\n",
        "fvalue, pvalue = stats.f_oneway(main_df['TV'],main_df['Sales'])\n",
        "print(fvalue, pvalue)"
      ],
      "execution_count": null,
      "outputs": []
    },
    {
      "cell_type": "markdown",
      "metadata": {
        "id": "NsYK0U33lvnA"
      },
      "source": [
        "#### **Since a high F-value is observed we can conclude, NULL hypothesis is rejected and it is concluded that the variability of group means is large relative to the within group variability**"
      ]
    },
    {
      "cell_type": "markdown",
      "metadata": {
        "id": "R-cT2HLzqw1F"
      },
      "source": [
        "### **Discussion and Conclusions**\n",
        "\n",
        "---\n",
        "#### From the entire analysis of our linear regression model, we can conclusively draw a few points which are as follows.\n",
        "#### The assumptions we made from the scatter plot initially, highlighted a few points about **no outliers**, relationship between variables is **linear**, the strength is **strong** which means all the data points are near to the best-fit line and that the direction of the relationship is **positive**, were proved to be true after we carried out **Linear Regression** on our model.\n",
        "#### **Interpretations** from the output of our regression model suggests that the amount of increase or say β1 has a negative impact on TV ad, ie: as β1 goes up, increase in TV ads go down.\n",
        "#### After which we calculated the **Model Confidence** which helped us to understand the importance of low variance and high bias of a linear regression model better.\n",
        "#### We calculated **Confidence intervals** on the mean response by calculating the mean of entire data(TV and Sales) helps us to understand that we can say with 95% certainty that this range of values contains true mean of population.\n",
        "#### **Prediction Intervals** calculation helped us to interpret where in the range of intervals would maximum of our true(as to be predicted) values lie.\n",
        "#### **Hypothesis Testing** is conducted in which we consider a null hypothesis(where a relationship exists b/w TV and Sales) and an alternate hypothesis(where there exists no relationship b/w TV and sales).\n",
        "##### A small p-value for the intercept and the slope indicates that we can **reject the null hypothesis** which allows us to conclude that there **exists** a relationship between TV and Sales.\n",
        "#### **Anova Testing** is conducted to find out the kind of relationship existing b/w TV and Sales. We obtain a high **F-value** which shows a case where the variability of group means is largely relative to the within group variability. In order to reject the null hypothesis that the group means are equal, we need a high F-value.\n",
        "#### **R-squared** calculated lastly shows that the closer the value of R-squared is to 1 the better the model fits our data. If R-squared comes below 0(which is a possibility) that means the model is so bad that it is performing even worse than the average best-fit line. \n",
        "\n",
        "#### **Finally our model fits our data best as the R-squared value suggests, since we obtain a value closer to 1 (0.81)**.\n",
        "\n",
        "\n",
        "\n"
      ]
    },
    {
      "cell_type": "markdown",
      "metadata": {
        "id": "oStgxM99sZ-a"
      },
      "source": [
        ""
      ]
    }
  ]
}